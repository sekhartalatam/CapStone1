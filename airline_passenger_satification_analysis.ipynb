import pandas as pd
import matplotlib.pyplot as plt
import seaborn as sn
df = pd.read_csv("Airline Quality Ratings.csv")
df.info()

df.head()
df.shape
df.describe()
df.hist(figsize=(20,10))
df.isnull().sum()*100/df.isnull().count()

df['Satisfaction'].value_counts().plot.pie(autopct='%1.1f%%')
plt.title("Passenger satification proportion in the dataset")
plt.show()

# Specify the names of the columns you want to extract
required_columns = ['Satisfaction', 'In-flight Entertainment']
# Extract data from the specified columns
selected_columns = df[required_columns]

selected_columns.head()


from scipy.stats import chi2_contingency

# Create a contingency table of the two variables
contingency_table = pd.crosstab(df['Satisfaction'], df['In-flight Entertainment'])
contingency_table.head()

# Apply the chi-squared test
chi2, p_value, dof, expected = chi2_contingency(contingency_table)

# Print the results
print("Chi-squared statistic:", chi2)
print("P-value:", p_value)
print("Degrees of freedom:", dof)
print("Expected frequencies table:")
print(expected)

##The null hypothesis (H0) for the chi-squared test of independence in this context is:
##There is no significant association between passenger satisfaction and In-flight Entertainment airline services. The null hypothesis states that the observed frequencies of passenger satisfaction levels and In-flight Entertainment ratings are not dependent on each other.
